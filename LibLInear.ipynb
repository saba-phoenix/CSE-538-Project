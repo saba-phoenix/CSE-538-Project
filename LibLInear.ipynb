{
 "cells": [
  {
   "cell_type": "code",
   "execution_count": 1,
   "metadata": {},
   "outputs": [],
   "source": [
    "from sklearn import model_selection, preprocessing, linear_model, naive_bayes, metrics, svm\n",
    "from sklearn.feature_extraction.text import TfidfVectorizer, CountVectorizer\n",
    "from sklearn.model_selection import KFold\n",
    "import numpy as np"
   ]
  },
  {
   "cell_type": "code",
   "execution_count": 2,
   "metadata": {},
   "outputs": [],
   "source": [
    "from tqdm._tqdm_notebook import tqdm_notebook\n",
    "import pandas as pd\n",
    "tqdm_notebook.pandas()"
   ]
  },
  {
   "cell_type": "markdown",
   "metadata": {},
   "source": [
    "#### Load dataset"
   ]
  },
  {
   "cell_type": "code",
   "execution_count": 3,
   "metadata": {},
   "outputs": [],
   "source": [
    "import os\n",
    "import pandas as pd\n",
    "from collections import Counter\n",
    "\n",
    "PATH = '..\\\\Dataset EMNLP\\\\novels\\\\'\n",
    "\n",
    "data = []\n",
    "\n",
    "for root, dirs, files in os.walk(PATH):\n",
    "    for i,name in enumerate(files):\n",
    "        if name.endswith((\".txt\")):\n",
    "            dir_split = root.replace('.','')\n",
    "            dir_split = dir_split.split('\\\\')\n",
    "            #print(dir_split)\n",
    "            category = dir_split[3]\n",
    "            outcome = dir_split[5]\n",
    "            file = open(root+'\\\\'+name, 'r')\n",
    "            text_data = file.read()\n",
    "            temp = []\n",
    "            temp.append(category)\n",
    "            temp.append(text_data)\n",
    "            temp.append(outcome)\n",
    "            data.append(temp)\n",
    "            \n",
    "            #print(category,outcome,name)"
   ]
  },
  {
   "cell_type": "code",
   "execution_count": 4,
   "metadata": {},
   "outputs": [
    {
     "name": "stdout",
     "output_type": "stream",
     "text": [
      "800\n",
      "            category                                               data  \\\n",
      "0  Adventure_Stories  the story told in this book is based upon lege...   \n",
      "1  Adventure_Stories  chapter i\\nan introductory disaster\\nearly in ...   \n",
      "2  Adventure_Stories  editor's note\\n\"martin rattler\" was one of, ro...   \n",
      "3  Adventure_Stories  chapter i\\na may party\\n\"marjorie maynard's ma...   \n",
      "4  Adventure_Stories  chapter i.\\ntwo young friends.\\nat the mouth o...   \n",
      "\n",
      "   outcome  \n",
      "0  failure  \n",
      "1  failure  \n",
      "2  failure  \n",
      "3  failure  \n",
      "4  failure  \n",
      "          category                                               data  outcome\n",
      "795  Short_Stories  i am the last of my type existing today in all...  success\n",
      "796  Short_Stories  \"the time has come,\" the walrus said,\\n\"to tal...  success\n",
      "797  Short_Stories  experiment\\n\"the first time machine, gentlemen...  success\n",
      "798  Short_Stories  o. henry, afrite-chef of all delight--\\nof all...  success\n",
      "799  Short_Stories  preface\\npoltarnees, beholder of ocean\\nblagda...  success\n"
     ]
    }
   ],
   "source": [
    "df = pd.DataFrame(data)\n",
    "df.columns = ['category','data','outcome']\n",
    "print(len(df))\n",
    "#df['value']=df.outcome.str[7:8]\n",
    "df['outcome']=df.outcome.str[0:7]\n",
    "print(df.head())\n",
    "print(df.tail())"
   ]
  },
  {
   "cell_type": "code",
   "execution_count": 5,
   "metadata": {},
   "outputs": [],
   "source": [
    "df['filtered'] = df.data.str.split('.').str[:1000]"
   ]
  },
  {
   "cell_type": "code",
   "execution_count": 6,
   "metadata": {},
   "outputs": [],
   "source": [
    "#df['filtered'] = df.data"
   ]
  },
  {
   "cell_type": "code",
   "execution_count": 7,
   "metadata": {},
   "outputs": [
    {
     "data": {
      "text/plain": [
       "0    [the story told in this book is based upon leg...\n",
       "1    [chapter i\\nan introductory disaster\\nearly in...\n",
       "2    [editor's note\\n\"martin rattler\" was one of, r...\n",
       "3    [chapter i\\na may party\\n\"marjorie maynard's m...\n",
       "4    [chapter i, \\ntwo young friends, \\nat the mout...\n",
       "Name: filtered, dtype: object"
      ]
     },
     "execution_count": 7,
     "metadata": {},
     "output_type": "execute_result"
    }
   ],
   "source": [
    "df.filtered.head()"
   ]
  },
  {
   "cell_type": "code",
   "execution_count": 8,
   "metadata": {},
   "outputs": [],
   "source": [
    "df.filtered = df.filtered.astype(str)"
   ]
  },
  {
   "cell_type": "markdown",
   "metadata": {},
   "source": [
    "#### Unigram model"
   ]
  },
  {
   "cell_type": "code",
   "execution_count": 9,
   "metadata": {},
   "outputs": [
    {
     "name": "stdout",
     "output_type": "stream",
     "text": [
      "Adventure_Stories\n",
      "mean F1:  0.76\n",
      "Fiction\n",
      "mean F1:  0.6900000000000001\n",
      "Historical_Fiction\n",
      "mean F1:  0.61\n",
      "Love_Stories\n",
      "mean F1:  0.5900000000000001\n",
      "Mystery\n",
      "mean F1:  0.7\n",
      "Poetry\n",
      "mean F1:  0.64\n",
      "Science_Fiction\n",
      "mean F1:  0.6799999999999999\n",
      "Short_Stories\n",
      "mean F1:  0.6399999999999999\n"
     ]
    }
   ],
   "source": [
    "uni_gram_acc_emnlp = {}\n",
    "for category in df.category.unique():\n",
    "    print(category)\n",
    "    df_temp = df[df.category==category]\n",
    "    tfidf_vect = CountVectorizer(analyzer='word')\n",
    "    tfidf_vect.fit(df_temp['filtered'])\n",
    "    tfidf_data =  tfidf_vect.transform(df_temp['filtered'])\n",
    "    \n",
    "    # label encode the target variable \n",
    "    encoder = preprocessing.LabelEncoder()\n",
    "    y_data = encoder.fit_transform(df_temp.outcome)\n",
    "    kf = KFold(n_splits=5, shuffle=True, random_state=0)\n",
    "    mean_acr = []\n",
    "    for train_index, test_index in kf.split(y_data):\n",
    "        \n",
    "        X_train, X_test = tfidf_data[train_index], tfidf_data[test_index]\n",
    "        y_train, y_test = y_data[train_index], y_data[test_index]\n",
    "        \n",
    "        # LinearSVC on Ngram Level TF IDF Vectors\n",
    "        clf = svm.LinearSVC()\n",
    "        clf.fit(X_train, y_train)\n",
    "        preds = clf.predict(X_test)\n",
    "        score = np.mean(preds == y_test)\n",
    "        mean_acr.append(score)\n",
    "        \n",
    "    print(\"mean F1: \",  np.array(mean_acr).mean())\n",
    "    uni_gram_acc_emnlp[category] = np.array(mean_acr).mean()"
   ]
  },
  {
   "cell_type": "markdown",
   "metadata": {},
   "source": [
    "#### Bigram model"
   ]
  },
  {
   "cell_type": "code",
   "execution_count": 10,
   "metadata": {},
   "outputs": [
    {
     "name": "stdout",
     "output_type": "stream",
     "text": [
      "Adventure_Stories\n",
      "mean F1:  0.75\n",
      "Fiction\n",
      "mean F1:  0.74\n",
      "Historical_Fiction\n",
      "mean F1:  0.58\n",
      "Love_Stories\n",
      "mean F1:  0.6900000000000001\n",
      "Mystery\n",
      "mean F1:  0.71\n",
      "Poetry\n",
      "mean F1:  0.6799999999999999\n",
      "Science_Fiction\n",
      "mean F1:  0.57\n",
      "Short_Stories\n",
      "mean F1:  0.74\n"
     ]
    }
   ],
   "source": [
    "bi_gram_acc_emnlp = {}\n",
    "for category in df.category.unique():\n",
    "    print(category)\n",
    "    df_temp = df[df.category==category]\n",
    "    tfidf_vect = CountVectorizer(analyzer='word', ngram_range=(2,2))\n",
    "    tfidf_vect.fit(df_temp['filtered'])\n",
    "    tfidf_data =  tfidf_vect.transform(df_temp['filtered'])\n",
    "    \n",
    "    # label encode the target variable \n",
    "    encoder = preprocessing.LabelEncoder()\n",
    "    y_data = encoder.fit_transform(df_temp.outcome)\n",
    "    kf = KFold(n_splits=5, shuffle=True, random_state=0)\n",
    "    mean_acr = []\n",
    "    for train_index, test_index in kf.split(y_data):\n",
    "        \n",
    "        X_train, X_test = tfidf_data[train_index], tfidf_data[test_index]\n",
    "        y_train, y_test = y_data[train_index], y_data[test_index]\n",
    "        \n",
    "        # LinearSVC on Ngram Level TF IDF Vectors\n",
    "        clf = svm.LinearSVC()\n",
    "        clf.fit(X_train, y_train)\n",
    "        preds = clf.predict(X_test)\n",
    "        score = np.mean(preds == y_test)\n",
    "        mean_acr.append(score)\n",
    "        \n",
    "    print(\"mean F1: \",  np.array(mean_acr).mean())\n",
    "    bi_gram_acc_emnlp[category] = np.array(mean_acr).mean()"
   ]
  },
  {
   "cell_type": "code",
   "execution_count": 11,
   "metadata": {},
   "outputs": [],
   "source": [
    "df_emnlp_uni = pd.DataFrame(list(uni_gram_acc_emnlp.items()), columns=['Category', 'Accuracy'])\n",
    "df_emnlp_bi =  pd.DataFrame(list(bi_gram_acc_emnlp.items()), columns=['Category', 'Accuracy'])"
   ]
  },
  {
   "cell_type": "code",
   "execution_count": 12,
   "metadata": {},
   "outputs": [],
   "source": [
    "UNI = {'Adventure_Stories': 84.0, \n",
    "       'Fiction': 75.0, \n",
    "       'Historical_Fiction': 60.0, \n",
    "       'Love_Stories': 82.0,\n",
    "       'Mystery': 73.0, \n",
    "       'Poetry': 71.0, \n",
    "       'Science_Fiction': 61.0, \n",
    "       'Short_Stories': 57.0}\n",
    "\n",
    "for i in UNI.keys():\n",
    "    UNI[i] = UNI[i]/100"
   ]
  },
  {
   "cell_type": "code",
   "execution_count": 13,
   "metadata": {},
   "outputs": [],
   "source": [
    "BI = {'Adventure_Stories': 81.0, \n",
    "       'Fiction': 75.0, \n",
    "       'Historical_Fiction': 51.0, \n",
    "       'Love_Stories': 72.0,\n",
    "       'Mystery': 73.0, \n",
    "       'Poetry': 72.0, \n",
    "       'Science_Fiction': 59.0, \n",
    "       'Short_Stories': 57.0}\n",
    "\n",
    "for i in BI.keys():\n",
    "    BI[i] = BI[i]/100"
   ]
  },
  {
   "cell_type": "code",
   "execution_count": 14,
   "metadata": {},
   "outputs": [
    {
     "data": {
      "text/plain": [
       "<Figure size 2000x1000 with 1 Axes>"
      ]
     },
     "metadata": {},
     "output_type": "display_data"
    }
   ],
   "source": [
    "from matplotlib import pyplot as plt\n",
    "\n",
    "fig = plt.figure(figsize=(20,10))\n",
    "ax = fig.add_subplot(111)\n",
    "plt.plot(uni_gram_acc_emnlp.values(), label = 'my unigram',linewidth=4)\n",
    "plt.plot(UNI.values(), label = 'paper unigram')\n",
    "ax.legend(loc='best')\n",
    "plt.xticks(range(8), df.category.unique())\n",
    "plt.show()"
   ]
  },
  {
   "cell_type": "code",
   "execution_count": 15,
   "metadata": {},
   "outputs": [
    {
     "data": {
      "image/png": "[encoded data removed]",
      "text/plain": [
       "<Figure size 1440x720 with 1 Axes>"
      ]
     },
     "metadata": {},
     "output_type": "display_data"
    }
   ],
   "source": [
    "from matplotlib import pyplot as plt\n",
    "\n",
    "fig = plt.figure(figsize=(20,10))\n",
    "ax = fig.add_subplot(111)\n",
    "plt.plot(bi_gram_acc_emnlp.values(), label = 'my bigram',linewidth=4)\n",
    "plt.plot(BI.values(), label = 'paper bigram')\n",
    "ax.legend(loc='best')\n",
    "plt.xticks(range(8), df.category.unique())\n",
    "plt.show()"
   ]
  },
  {
   "cell_type": "code",
   "execution_count": 43,
   "metadata": {},
   "outputs": [],
   "source": [
    "import os\n",
    "import pandas as pd\n",
    "from collections import Counter\n",
    "\n",
    "PATH = '..\\\\Emotion Flow GitHub\\\\data\\\\'\n",
    "\n",
    "data = []\n",
    "\n",
    "for root, dirs, files in os.walk(PATH):\n",
    "    for i,name in enumerate(files):\n",
    "        if name.endswith((\".txt\")):\n",
    "            dir_split = root.replace('.','')\n",
    "            dir_split = dir_split.split('\\\\')\n",
    "            category = dir_split[3]\n",
    "            outcome = dir_split[4]\n",
    "            file = open(root+'\\\\'+name, 'r', encoding='utf-8',errors='ignore')\n",
    "            text_data = file.read()\n",
    "            temp = []\n",
    "            temp.append(category)\n",
    "            temp.append(text_data)\n",
    "            temp.append(outcome)\n",
    "            data.append(temp)\n",
    "            \n",
    "            #print(category,outcome,name)\n",
    "file.close()"
   ]
  },
  {
   "cell_type": "code",
   "execution_count": 44,
   "metadata": {},
   "outputs": [
    {
     "name": "stdout",
     "output_type": "stream",
     "text": [
      "1003\n",
      "            category                                               data  \\\n",
      "0  Detective_Mystery  \\n\\nE-text prepared by Juliet Sutherland, Mary...   \n",
      "1  Detective_Mystery  PINES***\\n\\n\\nE-text prepared by Juliet Suther...   \n",
      "2  Detective_Mystery  \\n\\n\\n\\nProduced by Juliet Sutherland, Mary Me...   \n",
      "3  Detective_Mystery  \\n\\nE-text prepared by Juliet Sutherland, Mary...   \n",
      "4  Detective_Mystery  \\n\\n\\n\\nProduced by Steven desJardins and PG D...   \n",
      "\n",
      "   outcome  \n",
      "0  failure  \n",
      "1  failure  \n",
      "2  failure  \n",
      "3  failure  \n",
      "4  failure  \n"
     ]
    }
   ],
   "source": [
    "df = pd.DataFrame(data)\n",
    "df.columns = ['category','data','outcome']\n",
    "print(len(df))\n",
    "#df['value']=df.outcome.str[7:8]\n",
    "df['outcome']=df.outcome.str[0:7]\n",
    "print(df.head())"
   ]
  },
  {
   "cell_type": "code",
   "execution_count": 45,
   "metadata": {},
   "outputs": [],
   "source": [
    "df['filtered'] = df.data.str.split('.').str[:1000]"
   ]
  },
  {
   "cell_type": "code",
   "execution_count": 46,
   "metadata": {},
   "outputs": [],
   "source": [
    "df.filtered = df.filtered.astype(str)"
   ]
  },
  {
   "cell_type": "code",
   "execution_count": 47,
   "metadata": {},
   "outputs": [
    {
     "name": "stdout",
     "output_type": "stream",
     "text": [
      "Detective_Mystery\n",
      "mean F1:  0.6134199134199134\n",
      "Drama\n",
      "mean F1:  0.7373684210526316\n",
      "Fiction\n",
      "mean F1:  0.7213438735177865\n",
      "Historical_Fiction\n",
      "mean F1:  0.7397058823529411\n",
      "Love_Stories\n",
      "mean F1:  0.6625\n",
      "Poetry\n",
      "mean F1:  0.8067567567567566\n",
      "Science_Fiction\n",
      "mean F1:  0.5392156862745099\n",
      "Short_Stories\n",
      "mean F1:  0.6434389140271493\n"
     ]
    }
   ],
   "source": [
    "uni_gram_acc = {}\n",
    "for category in df.category.unique():\n",
    "    print(category)\n",
    "    df_temp = df[df.category==category]\n",
    "    tfidf_vect = CountVectorizer(analyzer='word')\n",
    "    tfidf_vect.fit(df_temp['filtered'])\n",
    "    tfidf_data =  tfidf_vect.transform(df_temp['filtered'])\n",
    "    \n",
    "    # label encode the target variable \n",
    "    encoder = preprocessing.LabelEncoder()\n",
    "    y_data = encoder.fit_transform(df_temp.outcome)\n",
    "    kf = KFold(n_splits=5, shuffle=True, random_state=0)\n",
    "    mean_acr = []\n",
    "    for train_index, test_index in kf.split(y_data):\n",
    "        \n",
    "        X_train, X_test = tfidf_data[train_index], tfidf_data[test_index]\n",
    "        y_train, y_test = y_data[train_index], y_data[test_index]\n",
    "        \n",
    "        # LinearSVC on Ngram Level TF IDF Vectors\n",
    "        clf = svm.LinearSVC()\n",
    "        clf.fit(X_train, y_train)\n",
    "        preds = clf.predict(X_test)\n",
    "        score = np.mean(preds == y_test)\n",
    "        mean_acr.append(score)\n",
    "        \n",
    "    print(\"mean F1: \",  np.array(mean_acr).mean())\n",
    "    uni_gram_acc[category]= np.array(mean_acr).mean()"
   ]
  },
  {
   "cell_type": "code",
   "execution_count": 48,
   "metadata": {},
   "outputs": [
    {
     "name": "stdout",
     "output_type": "stream",
     "text": [
      "Detective_Mystery\n",
      "mean F1:  0.632034632034632\n",
      "Drama\n",
      "mean F1:  0.7784210526315789\n",
      "Fiction\n",
      "mean F1:  0.7399209486166008\n",
      "Historical_Fiction\n",
      "mean F1:  0.7764705882352941\n",
      "Love_Stories\n",
      "mean F1:  0.7375\n",
      "Poetry\n",
      "mean F1:  0.8729729729729729\n",
      "Science_Fiction\n",
      "mean F1:  0.4705882352941176\n",
      "Short_Stories\n",
      "mean F1:  0.7170437405731523\n"
     ]
    }
   ],
   "source": [
    "bi_gram_acc = {}\n",
    "for category in df.category.unique():\n",
    "    print(category)\n",
    "    df_temp = df[df.category==category]\n",
    "    tfidf_vect = CountVectorizer(analyzer='word', ngram_range=(2,2))\n",
    "    tfidf_vect.fit(df_temp['filtered'])\n",
    "    tfidf_data =  tfidf_vect.transform(df_temp['filtered'])\n",
    "    \n",
    "    # label encode the target variable \n",
    "    encoder = preprocessing.LabelEncoder()\n",
    "    y_data = encoder.fit_transform(df_temp.outcome)\n",
    "    kf = KFold(n_splits=5, shuffle=True, random_state=0)\n",
    "    mean_acr = []\n",
    "    for train_index, test_index in kf.split(y_data):\n",
    "        \n",
    "        X_train, X_test = tfidf_data[train_index], tfidf_data[test_index]\n",
    "        y_train, y_test = y_data[train_index], y_data[test_index]\n",
    "        \n",
    "        # LinearSVC on Ngram Level TF IDF Vectors\n",
    "        clf = svm.LinearSVC()\n",
    "        clf.fit(X_train, y_train)\n",
    "        preds = clf.predict(X_test)\n",
    "        score = np.mean(preds == y_test)\n",
    "        mean_acr.append(score)\n",
    "        \n",
    "    print(\"mean F1: \",  np.array(mean_acr).mean())\n",
    "    bi_gram_acc[category]= np.array(mean_acr).mean()"
   ]
  },
  {
   "cell_type": "code",
   "execution_count": 49,
   "metadata": {},
   "outputs": [],
   "source": [
    "df_nacl_uni = pd.DataFrame(list(uni_gram_acc.items()), columns=['Category', 'Accuracy'])\n",
    "df_nacl_bi =  pd.DataFrame(list(bi_gram_acc.items()), columns=['Category', 'Accuracy'])"
   ]
  },
  {
   "cell_type": "code",
   "execution_count": 50,
   "metadata": {},
   "outputs": [],
   "source": [
    "df_paper_uni = pd.DataFrame(list(UNI.items()), columns=['Category', 'Accuracy'])\n",
    "df_paper_bi =  pd.DataFrame(list(BI.items()), columns=['Category', 'Accuracy'])"
   ]
  },
  {
   "cell_type": "code",
   "execution_count": 58,
   "metadata": {},
   "outputs": [
    {
     "data": {
      "text/html": [
       "<div>\n",
       "<style scoped>\n",
       "    .dataframe tbody tr th:only-of-type {\n",
       "        vertical-align: middle;\n",
       "    }\n",
       "\n",
       "    .dataframe tbody tr th {\n",
       "        vertical-align: top;\n",
       "    }\n",
       "\n",
       "    .dataframe thead th {\n",
       "        text-align: right;\n",
       "    }\n",
       "</style>\n",
       "<table border=\"1\" class=\"dataframe\">\n",
       "  <thead>\n",
       "    <tr style=\"text-align: right;\">\n",
       "      <th></th>\n",
       "      <th>Category</th>\n",
       "      <th>EMNLP method on EMNLP_Dataset</th>\n",
       "      <th>EMNLP method on ACL_Dataset</th>\n",
       "      <th>Original accuracy from EMNLP Paper</th>\n",
       "    </tr>\n",
       "  </thead>\n",
       "  <tbody>\n",
       "    <tr>\n",
       "      <th>0</th>\n",
       "      <td>Adventure_Stories</td>\n",
       "      <td>0.76</td>\n",
       "      <td>NaN</td>\n",
       "      <td>0.84</td>\n",
       "    </tr>\n",
       "    <tr>\n",
       "      <th>1</th>\n",
       "      <td>Fiction</td>\n",
       "      <td>0.69</td>\n",
       "      <td>0.721344</td>\n",
       "      <td>0.75</td>\n",
       "    </tr>\n",
       "    <tr>\n",
       "      <th>2</th>\n",
       "      <td>Historical_Fiction</td>\n",
       "      <td>0.61</td>\n",
       "      <td>0.739706</td>\n",
       "      <td>0.60</td>\n",
       "    </tr>\n",
       "    <tr>\n",
       "      <th>3</th>\n",
       "      <td>Love_Stories</td>\n",
       "      <td>0.59</td>\n",
       "      <td>0.662500</td>\n",
       "      <td>0.82</td>\n",
       "    </tr>\n",
       "    <tr>\n",
       "      <th>4</th>\n",
       "      <td>Mystery</td>\n",
       "      <td>0.70</td>\n",
       "      <td>NaN</td>\n",
       "      <td>0.73</td>\n",
       "    </tr>\n",
       "    <tr>\n",
       "      <th>5</th>\n",
       "      <td>Poetry</td>\n",
       "      <td>0.64</td>\n",
       "      <td>0.806757</td>\n",
       "      <td>0.71</td>\n",
       "    </tr>\n",
       "    <tr>\n",
       "      <th>6</th>\n",
       "      <td>Science_Fiction</td>\n",
       "      <td>0.68</td>\n",
       "      <td>0.539216</td>\n",
       "      <td>0.61</td>\n",
       "    </tr>\n",
       "    <tr>\n",
       "      <th>7</th>\n",
       "      <td>Short_Stories</td>\n",
       "      <td>0.64</td>\n",
       "      <td>0.643439</td>\n",
       "      <td>0.57</td>\n",
       "    </tr>\n",
       "    <tr>\n",
       "      <th>8</th>\n",
       "      <td>Detective_Mystery</td>\n",
       "      <td>NaN</td>\n",
       "      <td>0.613420</td>\n",
       "      <td>NaN</td>\n",
       "    </tr>\n",
       "    <tr>\n",
       "      <th>9</th>\n",
       "      <td>Drama</td>\n",
       "      <td>NaN</td>\n",
       "      <td>0.737368</td>\n",
       "      <td>NaN</td>\n",
       "    </tr>\n",
       "  </tbody>\n",
       "</table>\n",
       "</div>"
      ],
      "text/plain": [
       "             Category  EMNLP method on EMNLP_Dataset  \\\n",
       "0   Adventure_Stories                           0.76   \n",
       "1             Fiction                           0.69   \n",
       "2  Historical_Fiction                           0.61   \n",
       "3        Love_Stories                           0.59   \n",
       "4             Mystery                           0.70   \n",
       "5              Poetry                           0.64   \n",
       "6     Science_Fiction                           0.68   \n",
       "7       Short_Stories                           0.64   \n",
       "8   Detective_Mystery                            NaN   \n",
       "9               Drama                            NaN   \n",
       "\n",
       "   EMNLP method on ACL_Dataset  Original accuracy from EMNLP Paper  \n",
       "0                          NaN                                0.84  \n",
       "1                     0.721344                                0.75  \n",
       "2                     0.739706                                0.60  \n",
       "3                     0.662500                                0.82  \n",
       "4                          NaN                                0.73  \n",
       "5                     0.806757                                0.71  \n",
       "6                     0.539216                                0.61  \n",
       "7                     0.643439                                0.57  \n",
       "8                     0.613420                                 NaN  \n",
       "9                     0.737368                                 NaN  "
      ]
     },
     "execution_count": 58,
     "metadata": {},
     "output_type": "execute_result"
    }
   ],
   "source": [
    "df_uni_com = df_emnlp_uni.merge(df_nacl_uni, on='Category', how='outer')\n",
    "df_uni_com = df_uni_com.merge(df_paper_uni, on='Category', how='outer')\n",
    "df_uni_com.rename(columns={'Accuracy_x': 'EMNLP method on EMNLP_Dataset', 'Accuracy_y': 'EMNLP method on ACL_Dataset', 'Accuracy': 'Original accuracy from EMNLP Paper'}, inplace=True)\n",
    "df_uni_com.head(10)"
   ]
  },
  {
   "cell_type": "code",
   "execution_count": 61,
   "metadata": {},
   "outputs": [
    {
     "data": {
      "text/plain": [
       "<matplotlib.axes._subplots.AxesSubplot at 0x28e8b89bfd0>"
      ]
     },
     "execution_count": 61,
     "metadata": {},
     "output_type": "execute_result"
    },
    {
     "data": {
      "image/png": "[encoded data removed]",
      "text/plain": [
       "<Figure size 720x360 with 1 Axes>"
      ]
     },
     "metadata": {},
     "output_type": "display_data"
    }
   ],
   "source": [
    "df_uni_com.plot(x=\"Category\", y=[\"EMNLP method on EMNLP_Dataset\",\n",
    "                                                 \"Original accuracy from EMNLP Paper\",\n",
    "                                                 \"EMNLP method on ACL_Dataset\"\n",
    "                                                 ], kind=\"bar\", figsize=(10,5),\n",
    "               title='Accuracy of the uni-gram model', legend=True )"
   ]
  },
  {
   "cell_type": "code",
   "execution_count": 64,
   "metadata": {},
   "outputs": [
    {
     "data": {
      "text/html": [
       "<div>\n",
       "<style scoped>\n",
       "    .dataframe tbody tr th:only-of-type {\n",
       "        vertical-align: middle;\n",
       "    }\n",
       "\n",
       "    .dataframe tbody tr th {\n",
       "        vertical-align: top;\n",
       "    }\n",
       "\n",
       "    .dataframe thead th {\n",
       "        text-align: right;\n",
       "    }\n",
       "</style>\n",
       "<table border=\"1\" class=\"dataframe\">\n",
       "  <thead>\n",
       "    <tr style=\"text-align: right;\">\n",
       "      <th></th>\n",
       "      <th>Category</th>\n",
       "      <th>EMNLP method on EMNLP_Dataset</th>\n",
       "      <th>EMNLP method on ACL_Dataset</th>\n",
       "      <th>Original accuracy from EMNLP Paper</th>\n",
       "    </tr>\n",
       "  </thead>\n",
       "  <tbody>\n",
       "    <tr>\n",
       "      <th>0</th>\n",
       "      <td>Adventure_Stories</td>\n",
       "      <td>0.75</td>\n",
       "      <td>NaN</td>\n",
       "      <td>0.81</td>\n",
       "    </tr>\n",
       "    <tr>\n",
       "      <th>1</th>\n",
       "      <td>Fiction</td>\n",
       "      <td>0.74</td>\n",
       "      <td>0.739921</td>\n",
       "      <td>0.75</td>\n",
       "    </tr>\n",
       "    <tr>\n",
       "      <th>2</th>\n",
       "      <td>Historical_Fiction</td>\n",
       "      <td>0.58</td>\n",
       "      <td>0.776471</td>\n",
       "      <td>0.51</td>\n",
       "    </tr>\n",
       "    <tr>\n",
       "      <th>3</th>\n",
       "      <td>Love_Stories</td>\n",
       "      <td>0.69</td>\n",
       "      <td>0.737500</td>\n",
       "      <td>0.72</td>\n",
       "    </tr>\n",
       "    <tr>\n",
       "      <th>4</th>\n",
       "      <td>Mystery</td>\n",
       "      <td>0.71</td>\n",
       "      <td>NaN</td>\n",
       "      <td>0.73</td>\n",
       "    </tr>\n",
       "    <tr>\n",
       "      <th>5</th>\n",
       "      <td>Poetry</td>\n",
       "      <td>0.68</td>\n",
       "      <td>0.872973</td>\n",
       "      <td>0.72</td>\n",
       "    </tr>\n",
       "    <tr>\n",
       "      <th>6</th>\n",
       "      <td>Science_Fiction</td>\n",
       "      <td>0.57</td>\n",
       "      <td>0.470588</td>\n",
       "      <td>0.59</td>\n",
       "    </tr>\n",
       "    <tr>\n",
       "      <th>7</th>\n",
       "      <td>Short_Stories</td>\n",
       "      <td>0.74</td>\n",
       "      <td>0.717044</td>\n",
       "      <td>0.57</td>\n",
       "    </tr>\n",
       "    <tr>\n",
       "      <th>8</th>\n",
       "      <td>Detective_Mystery</td>\n",
       "      <td>NaN</td>\n",
       "      <td>0.632035</td>\n",
       "      <td>NaN</td>\n",
       "    </tr>\n",
       "    <tr>\n",
       "      <th>9</th>\n",
       "      <td>Drama</td>\n",
       "      <td>NaN</td>\n",
       "      <td>0.778421</td>\n",
       "      <td>NaN</td>\n",
       "    </tr>\n",
       "  </tbody>\n",
       "</table>\n",
       "</div>"
      ],
      "text/plain": [
       "             Category  EMNLP method on EMNLP_Dataset  \\\n",
       "0   Adventure_Stories                           0.75   \n",
       "1             Fiction                           0.74   \n",
       "2  Historical_Fiction                           0.58   \n",
       "3        Love_Stories                           0.69   \n",
       "4             Mystery                           0.71   \n",
       "5              Poetry                           0.68   \n",
       "6     Science_Fiction                           0.57   \n",
       "7       Short_Stories                           0.74   \n",
       "8   Detective_Mystery                            NaN   \n",
       "9               Drama                            NaN   \n",
       "\n",
       "   EMNLP method on ACL_Dataset  Original accuracy from EMNLP Paper  \n",
       "0                          NaN                                0.81  \n",
       "1                     0.739921                                0.75  \n",
       "2                     0.776471                                0.51  \n",
       "3                     0.737500                                0.72  \n",
       "4                          NaN                                0.73  \n",
       "5                     0.872973                                0.72  \n",
       "6                     0.470588                                0.59  \n",
       "7                     0.717044                                0.57  \n",
       "8                     0.632035                                 NaN  \n",
       "9                     0.778421                                 NaN  "
      ]
     },
     "execution_count": 64,
     "metadata": {},
     "output_type": "execute_result"
    }
   ],
   "source": [
    "df_bi_com = df_emnlp_bi.merge(df_nacl_bi, on='Category', how='outer')\n",
    "df_bi_com = df_bi_com.merge(df_paper_bi, on='Category', how='outer')\n",
    "df_bi_com.rename(columns={'Accuracy_x': 'EMNLP method on EMNLP_Dataset', 'Accuracy_y': 'EMNLP method on ACL_Dataset', 'Accuracy': 'Original accuracy from EMNLP Paper'}, inplace=True)\n",
    "df_bi_com.head(10)"
   ]
  },
  {
   "cell_type": "code",
   "execution_count": 66,
   "metadata": {},
   "outputs": [
    {
     "data": {
      "text/plain": [
       "<matplotlib.axes._subplots.AxesSubplot at 0x28e93449550>"
      ]
     },
     "execution_count": 66,
     "metadata": {},
     "output_type": "execute_result"
    },
    {
     "data": {
      "image/png": "[encoded data removed]",
      "text/plain": [
       "<Figure size 720x360 with 1 Axes>"
      ]
     },
     "metadata": {},
     "output_type": "display_data"
    }
   ],
   "source": [
    "df_bi_com.plot(x=\"Category\", y=[\"EMNLP method on EMNLP_Dataset\",\n",
    "                                                 \"Original accuracy from EMNLP Paper\",\n",
    "                                                 \"EMNLP method on ACL_Dataset\"\n",
    "                                                 ], kind=\"bar\", figsize=(10,5),\n",
    "               title='Accuracy of the bi-gram model', legend=True )"
   ]
  }
 ],
 "metadata": {
  "kernelspec": {
   "display_name": "Python 3",
   "language": "python",
   "name": "python3"
  },
  "language_info": {
   "codemirror_mode": {
    "name": "ipython",
    "version": 3
   },
   "file_extension": ".py",
   "mimetype": "text/x-python",
   "name": "python",
   "nbconvert_exporter": "python",
   "pygments_lexer": "ipython3",
   "version": "3.6.6"
  }
 },
 "nbformat": 4,
 "nbformat_minor": 2
}
